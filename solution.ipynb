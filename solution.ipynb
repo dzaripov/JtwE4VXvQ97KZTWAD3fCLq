{
 "cells": [
  {
   "cell_type": "markdown",
   "metadata": {},
   "source": [
    "#### Начнем с самого простого подхода, который требует наименьшего количества ресурсов и который создаст нам некий бейзлайн"
   ]
  },
  {
   "cell_type": "code",
   "execution_count": 85,
   "metadata": {},
   "outputs": [
    {
     "name": "stdout",
     "output_type": "stream",
     "text": [
      "Logistic Regression ROC AUC: 0.9788\n",
      "Logistic Regression Accuracy: 0.9281\n",
      "Logistic Regression Classification Report:\n",
      "               precision    recall  f1-score   support\n",
      "\n",
      "           0       0.93      0.97      0.95      2321\n",
      "           1       0.92      0.82      0.87       935\n",
      "\n",
      "    accuracy                           0.93      3256\n",
      "   macro avg       0.93      0.90      0.91      3256\n",
      "weighted avg       0.93      0.93      0.93      3256\n",
      "\n",
      "Logistic Regression Confusion Matrix:\n",
      " [[2257   64]\n",
      " [ 170  765]]\n",
      "Naive Bayes ROC AUC: 0.9365\n",
      "Naive Bayes Accuracy: 0.8566\n",
      "Naive Bayes Classification Report:\n",
      "               precision    recall  f1-score   support\n",
      "\n",
      "           0       0.84      0.99      0.91      2321\n",
      "           1       0.95      0.53      0.68       935\n",
      "\n",
      "    accuracy                           0.86      3256\n",
      "   macro avg       0.89      0.76      0.79      3256\n",
      "weighted avg       0.87      0.86      0.84      3256\n",
      "\n",
      "Naive Bayes Confusion Matrix:\n",
      " [[2293   28]\n",
      " [ 439  496]]\n",
      "Linear Support Vector Machine ROC AUC: 0.9341\n",
      "Linear Support Vector Machine Accuracy: 0.9493\n",
      "Linear Support Vector Machine Classification Report:\n",
      "               precision    recall  f1-score   support\n",
      "\n",
      "           0       0.96      0.97      0.96      2321\n",
      "           1       0.92      0.90      0.91       935\n",
      "\n",
      "    accuracy                           0.95      3256\n",
      "   macro avg       0.94      0.93      0.94      3256\n",
      "weighted avg       0.95      0.95      0.95      3256\n",
      "\n",
      "Linear Support Vector Machine Confusion Matrix:\n",
      " [[2251   70]\n",
      " [  95  840]]\n",
      "Random Forest ROC AUC: 0.9855\n",
      "Random Forest Accuracy: 0.9312\n",
      "Random Forest Classification Report:\n",
      "               precision    recall  f1-score   support\n",
      "\n",
      "           0       0.92      1.00      0.95      2321\n",
      "           1       0.98      0.77      0.87       935\n",
      "\n",
      "    accuracy                           0.93      3256\n",
      "   macro avg       0.95      0.88      0.91      3256\n",
      "weighted avg       0.94      0.93      0.93      3256\n",
      "\n",
      "Random Forest Confusion Matrix:\n",
      " [[2310   11]\n",
      " [ 213  722]]\n",
      "Catboost GBM ROC AUC: 0.9808\n",
      "Catboost GBM Accuracy: 0.9380\n",
      "Catboost GBM Classification Report:\n",
      "               precision    recall  f1-score   support\n",
      "\n",
      "           0       0.93      0.98      0.96      2321\n",
      "           1       0.96      0.82      0.88       935\n",
      "\n",
      "    accuracy                           0.94      3256\n",
      "   macro avg       0.94      0.90      0.92      3256\n",
      "weighted avg       0.94      0.94      0.94      3256\n",
      "\n",
      "Catboost GBM Confusion Matrix:\n",
      " [[2286   35]\n",
      " [ 167  768]]\n"
     ]
    }
   ],
   "source": [
    "import pandas as pd\n",
    "from sklearn.model_selection import train_test_split\n",
    "from sklearn.feature_extraction.text import TfidfVectorizer\n",
    "from sklearn.linear_model import LogisticRegression\n",
    "from sklearn.naive_bayes import MultinomialNB\n",
    "from sklearn.linear_model import LogisticRegression\n",
    "from sklearn.svm import LinearSVC\n",
    "from sklearn.ensemble import RandomForestClassifier\n",
    "from catboost import CatBoostClassifier\n",
    "from sklearn.metrics import roc_auc_score, accuracy_score, classification_report, confusion_matrix\n",
    "\n",
    "import warnings\n",
    "warnings.filterwarnings(\"ignore\")\n",
    "\n",
    "\n",
    "data_train = pd.read_csv('data/train_spam.csv')\n",
    "data_train['target'] = data_train['text_type'].apply(lambda x: 1 if x == 'spam' else 0)\n",
    "\n",
    "# Train test split\n",
    "X_train, X_test, y_train, y_test = train_test_split(data_train['text'], data_train['target'], \n",
    "                                                    test_size=0.2, random_state=42)\n",
    "\n",
    "# TF-IDF\n",
    "vectorizer = TfidfVectorizer()\n",
    "X_train_tfidf = vectorizer.fit_transform(X_train)\n",
    "X_test_tfidf = vectorizer.transform(X_test)\n",
    "\n",
    "\n",
    "\n",
    "# Evaluate different classic machine learning approaches\n",
    "def evaluate_method(model, model_name, X_train_tfidf, y_train, X_test_tfidf, y_test, verbose=0):\n",
    "    if model_name == 'Catboost GBM':\n",
    "        model.fit(X_train_tfidf, y_train, verbose=0)\n",
    "    else:\n",
    "        model.fit(X_train_tfidf, y_train)\n",
    "    try:\n",
    "        preds = model.predict_proba(X_test_tfidf)[:, 1]\n",
    "        y_pred = preds > 0.5\n",
    "    except:\n",
    "        y_pred = model.predict(X_test_tfidf)\n",
    "        preds = y_pred\n",
    "    print(f\"{model_name} ROC AUC: {roc_auc_score(y_test, preds):.4f}\")\n",
    "    print(f\"{model_name} Accuracy: {accuracy_score(y_test, y_pred):.4f}\")\n",
    "    print(f\"{model_name} Classification Report:\\n\", classification_report(y_test, y_pred))\n",
    "    print(f\"{model_name} Confusion Matrix:\\n\", confusion_matrix(y_test, y_pred))\n",
    "    return model\n",
    "\n",
    "# Evaluation\n",
    "methods = [\n",
    "        (LogisticRegression(), 'Logistic Regression'),\n",
    "        (MultinomialNB(), 'Naive Bayes'),\n",
    "        (LinearSVC(), 'Linear Support Vector Machine'),\n",
    "        (RandomForestClassifier(), 'Random Forest'),\n",
    "        (CatBoostClassifier(), 'Catboost GBM')\n",
    "        ]\n",
    "models = {}\n",
    "for model, model_name in methods:\n",
    "    models[model_name] = evaluate_method(model, model_name, X_train_tfidf, y_train, X_test_tfidf, y_test)"
   ]
  },
  {
   "cell_type": "markdown",
   "metadata": {},
   "source": [
    "| Model        | ROC AUC | Примечание |\n",
    "|--------------|---------|------------|\n",
    "| LogReg       | 0.9788  ||\n",
    "| Naive Bayes  | 0.9365  ||\n",
    "| Linear SVM   | 0.9341  | Не умеет предсказывать вероятности|\n",
    "| Random Forest| 0.9855  ||\n",
    "| Catboost     | 0.9808  ||"
   ]
  },
  {
   "cell_type": "markdown",
   "metadata": {},
   "source": [
    "#### "
   ]
  },
  {
   "cell_type": "markdown",
   "metadata": {},
   "source": [
    "#### А еще тут видно, что у нас присутствует дизбаланс классов, а метрика выбрана не такая, которая не подвержена ему.. Лучше было бы использовать PR AUC. "
   ]
  },
  {
   "cell_type": "markdown",
   "metadata": {},
   "source": [
    "#### Теперь посмотрим модельки на основе нейросетей, начнем со стандартного берта"
   ]
  },
  {
   "cell_type": "markdown",
   "metadata": {},
   "source": [
    "#### Для начала посмотрим сколько же токенов мы хотим подавать на вход. Если слишком много, то будет много паддингов, если мало - то будет теряться информация."
   ]
  },
  {
   "cell_type": "code",
   "execution_count": 14,
   "metadata": {},
   "outputs": [
    {
     "data": {
      "image/png": "[encoded data removed]",
      "text/plain": [
       "<Figure size 432x288 with 1 Axes>"
      ]
     },
     "metadata": {
      "needs_background": "light"
     },
     "output_type": "display_data"
    },
    {
     "name": "stdout",
     "output_type": "stream",
     "text": [
      "25th percentile (Q1): 17\n",
      "50th percentile (Q2/Median): 45\n",
      "75th percentile (Q3): 135\n",
      "Number of samples below Q1: 3226\n",
      "Number of samples below Q2/Median: 6471\n",
      "Number of samples below Q3: 9741\n",
      "Number of samples below 256: 12994\n",
      "Number of samples: 13022\n"
     ]
    }
   ],
   "source": [
    "import torch\n",
    "import matplotlib.pyplot as plt\n",
    "import numpy as np\n",
    "from transformers import BertTokenizerFast\n",
    "\n",
    "tokenizer = BertTokenizerFast.from_pretrained(model_name)\n",
    "\n",
    "texts = list(np.array(X_train))\n",
    "encodings = tokenizer(texts, padding=True, truncation=True, max_length=512, return_tensors=\"pt\")\n",
    "real_token_counts = torch.sum(encodings['input_ids'] != 0, dim=1).numpy()\n",
    "\n",
    "plt.hist(real_token_counts, bins=50, alpha=0.5, label='Real token count')\n",
    "plt.xlabel('Token count')\n",
    "plt.ylabel('Frequency')\n",
    "plt.title('Histogram of real token counts')\n",
    "plt.show()\n",
    "\n",
    "q25, q50, q75 = np.percentile(real_token_counts, [25, 50, 75])\n",
    "\n",
    "print(f\"25th percentile (Q1): {q25:.0f}\")\n",
    "print(f\"50th percentile (Q2/Median): {q50:.0f}\")\n",
    "print(f\"75th percentile (Q3): {q75:.0f}\")\n",
    "\n",
    "below_q1 = np.sum(real_token_counts < q25)\n",
    "below_q2 = np.sum(real_token_counts < q50)\n",
    "below_q3 = np.sum(real_token_counts < q75)\n",
    "below_256 = np.sum(real_token_counts < 256)\n",
    "\n",
    "print(f\"Number of samples below Q1: {below_q1}\")\n",
    "print(f\"Number of samples below Q2/Median: {below_q2}\")\n",
    "print(f\"Number of samples below Q3: {below_q3}\")\n",
    "print(f\"Number of samples below 256: {below_256}\")\n",
    "print(f\"Number of samples: {len(encodings['input_ids'])}\")"
   ]
  },
  {
   "cell_type": "markdown",
   "metadata": {},
   "source": [
    "#### 256 - не слишком большое число, так что его можно оставить. 512 видно, что слишком избыточно"
   ]
  },
  {
   "cell_type": "code",
   "execution_count": 16,
   "metadata": {},
   "outputs": [
    {
     "name": "stderr",
     "output_type": "stream",
     "text": [
      "Some weights of BertForSequenceClassification were not initialized from the model checkpoint at bert-base-uncased and are newly initialized: ['classifier.bias', 'classifier.weight']\n",
      "You should probably TRAIN this model on a down-stream task to be able to use it for predictions and inference.\n"
     ]
    },
    {
     "data": {
      "application/vnd.jupyter.widget-view+json": {
       "model_id": "7ddd7f03b36545dfa44ed62101fd7a3a",
       "version_major": 2,
       "version_minor": 0
      },
      "text/plain": [
       "  0%|          | 0/8140 [00:00<?, ?it/s]"
      ]
     },
     "metadata": {},
     "output_type": "display_data"
    },
    {
     "name": "stderr",
     "output_type": "stream",
     "text": [
      "Checkpoint destination directory ./results/checkpoint-500 already exists and is non-empty.Saving will proceed but saved results may be invalid.\n"
     ]
    },
    {
     "name": "stdout",
     "output_type": "stream",
     "text": [
      "{'loss': 0.3036, 'learning_rate': 5e-05, 'epoch': 0.31}\n"
     ]
    },
    {
     "name": "stderr",
     "output_type": "stream",
     "text": [
      "Checkpoint destination directory ./results/checkpoint-1000 already exists and is non-empty.Saving will proceed but saved results may be invalid.\n"
     ]
    },
    {
     "name": "stdout",
     "output_type": "stream",
     "text": [
      "{'loss': 0.1929, 'learning_rate': 4.6727748691099475e-05, 'epoch': 0.61}\n"
     ]
    },
    {
     "name": "stderr",
     "output_type": "stream",
     "text": [
      "Checkpoint destination directory ./results/checkpoint-1500 already exists and is non-empty.Saving will proceed but saved results may be invalid.\n"
     ]
    },
    {
     "name": "stdout",
     "output_type": "stream",
     "text": [
      "{'loss': 0.1693, 'learning_rate': 4.3455497382198955e-05, 'epoch': 0.92}\n"
     ]
    },
    {
     "data": {
      "application/vnd.jupyter.widget-view+json": {
       "model_id": "072d906e5c1f4feb847f590cdb7917f9",
       "version_major": 2,
       "version_minor": 0
      },
      "text/plain": [
       "  0%|          | 0/407 [00:00<?, ?it/s]"
      ]
     },
     "metadata": {},
     "output_type": "display_data"
    },
    {
     "name": "stdout",
     "output_type": "stream",
     "text": [
      "{'eval_loss': 0.1364532709121704, 'eval_ROC AUC': 0.9562004207111539, 'eval_runtime': 27.2087, 'eval_samples_per_second': 119.668, 'eval_steps_per_second': 14.958, 'epoch': 1.0}\n",
      "{'loss': 0.1018, 'learning_rate': 4.018324607329843e-05, 'epoch': 1.23}\n",
      "{'loss': 0.0929, 'learning_rate': 3.691099476439791e-05, 'epoch': 1.54}\n",
      "{'loss': 0.0798, 'learning_rate': 3.3638743455497386e-05, 'epoch': 1.84}\n"
     ]
    },
    {
     "data": {
      "application/vnd.jupyter.widget-view+json": {
       "model_id": "03010385d7074963b743a1b0cbc82528",
       "version_major": 2,
       "version_minor": 0
      },
      "text/plain": [
       "  0%|          | 0/407 [00:00<?, ?it/s]"
      ]
     },
     "metadata": {},
     "output_type": "display_data"
    },
    {
     "name": "stdout",
     "output_type": "stream",
     "text": [
      "{'eval_loss': 0.12889708578586578, 'eval_ROC AUC': 0.9694122715867907, 'eval_runtime': 27.4139, 'eval_samples_per_second': 118.772, 'eval_steps_per_second': 14.846, 'epoch': 2.0}\n",
      "{'loss': 0.0689, 'learning_rate': 3.036649214659686e-05, 'epoch': 2.15}\n",
      "{'loss': 0.041, 'learning_rate': 2.709424083769634e-05, 'epoch': 2.46}\n",
      "{'loss': 0.035, 'learning_rate': 2.382198952879581e-05, 'epoch': 2.76}\n"
     ]
    },
    {
     "data": {
      "application/vnd.jupyter.widget-view+json": {
       "model_id": "c1478696ac094207a409a921f7869408",
       "version_major": 2,
       "version_minor": 0
      },
      "text/plain": [
       "  0%|          | 0/407 [00:00<?, ?it/s]"
      ]
     },
     "metadata": {},
     "output_type": "display_data"
    },
    {
     "name": "stdout",
     "output_type": "stream",
     "text": [
      "{'eval_loss': 0.2064673900604248, 'eval_ROC AUC': 0.9674354360443014, 'eval_runtime': 27.4612, 'eval_samples_per_second': 118.567, 'eval_steps_per_second': 14.821, 'epoch': 3.0}\n",
      "{'loss': 0.0377, 'learning_rate': 2.054973821989529e-05, 'epoch': 3.07}\n",
      "{'loss': 0.0199, 'learning_rate': 1.7277486910994763e-05, 'epoch': 3.38}\n",
      "{'loss': 0.0112, 'learning_rate': 1.4005235602094241e-05, 'epoch': 3.69}\n",
      "{'loss': 0.0155, 'learning_rate': 1.0732984293193717e-05, 'epoch': 3.99}\n"
     ]
    },
    {
     "data": {
      "application/vnd.jupyter.widget-view+json": {
       "model_id": "7114ed234b574b8995205bd6841eb73b",
       "version_major": 2,
       "version_minor": 0
      },
      "text/plain": [
       "  0%|          | 0/407 [00:00<?, ?it/s]"
      ]
     },
     "metadata": {},
     "output_type": "display_data"
    },
    {
     "name": "stdout",
     "output_type": "stream",
     "text": [
      "{'eval_loss': 0.15138591825962067, 'eval_ROC AUC': 0.9730085916313963, 'eval_runtime': 27.1434, 'eval_samples_per_second': 119.955, 'eval_steps_per_second': 14.994, 'epoch': 4.0}\n",
      "{'loss': 0.0058, 'learning_rate': 7.4607329842931935e-06, 'epoch': 4.3}\n",
      "{'loss': 0.0052, 'learning_rate': 4.18848167539267e-06, 'epoch': 4.61}\n",
      "{'loss': 0.005, 'learning_rate': 9.162303664921465e-07, 'epoch': 4.91}\n"
     ]
    },
    {
     "data": {
      "application/vnd.jupyter.widget-view+json": {
       "model_id": "e8280fc509974ab9bd8953cc16fdc21a",
       "version_major": 2,
       "version_minor": 0
      },
      "text/plain": [
       "  0%|          | 0/407 [00:00<?, ?it/s]"
      ]
     },
     "metadata": {},
     "output_type": "display_data"
    },
    {
     "name": "stdout",
     "output_type": "stream",
     "text": [
      "{'eval_loss': 0.15517643094062805, 'eval_ROC AUC': 0.9754669640367996, 'eval_runtime': 27.5222, 'eval_samples_per_second': 118.305, 'eval_steps_per_second': 14.788, 'epoch': 5.0}\n",
      "{'train_runtime': 1890.098, 'train_samples_per_second': 34.448, 'train_steps_per_second': 4.307, 'train_loss': 0.07281432813147874, 'epoch': 5.0}\n"
     ]
    },
    {
     "data": {
      "text/plain": [
       "TrainOutput(global_step=8140, training_loss=0.07281432813147874, metrics={'train_runtime': 1890.098, 'train_samples_per_second': 34.448, 'train_steps_per_second': 4.307, 'train_loss': 0.07281432813147874, 'epoch': 5.0})"
      ]
     },
     "execution_count": 16,
     "metadata": {},
     "output_type": "execute_result"
    }
   ],
   "source": [
    "from transformers import BertTokenizerFast, BertForSequenceClassification, Trainer, TrainingArguments\n",
    "import numpy as np\n",
    "import torch\n",
    "from datasets import Dataset\n",
    "\n",
    "# Loading original BERT\n",
    "model_name = 'bert-base-uncased'\n",
    "tokenizer = BertTokenizerFast.from_pretrained(model_name)\n",
    "model = BertForSequenceClassification.from_pretrained(model_name, num_labels=2)\n",
    "EPOCH_NUMBER = 5\n",
    "\n",
    "\n",
    "def generate_dataset(texts, labels, max_length=256):\n",
    "    encodings = tokenizer(texts, padding=True, truncation=True, \n",
    "                          max_length=max_length, return_tensors=\"pt\")\n",
    "    try:\n",
    "        dataset = Dataset.from_dict({\"input_ids\": encodings['input_ids'], \n",
    "                                     \"attention_mask\": encodings['attention_mask'], \n",
    "                                     \"labels\": labels})\n",
    "    except:\n",
    "        dataset = Dataset.from_dict({\"input_ids\": encodings['input_ids'], \n",
    "                                     \"attention_mask\": encodings['attention_mask']})\n",
    "    return dataset\n",
    "\n",
    "train_dataset = generate_dataset(list(np.array(X_train)), y_train)\n",
    "test_dataset = generate_dataset(list(np.array(X_test)), y_test)\n",
    "\n",
    "# Training Args\n",
    "training_args = TrainingArguments(\n",
    "    output_dir='./results',\n",
    "    num_train_epochs=EPOCH_NUMBER,\n",
    "    warmup_steps=500,\n",
    "    weight_decay=0.01,\n",
    "    logging_dir='./logs',\n",
    "    evaluation_strategy=\"epoch\"\n",
    ")\n",
    "\n",
    "# Trainer\n",
    "trainer = Trainer(\n",
    "    model=model,\n",
    "    args=training_args,\n",
    "    train_dataset=train_dataset,\n",
    "    eval_dataset=test_dataset,\n",
    "    compute_metrics=lambda pred: {\n",
    "    'ROC AUC': roc_auc_score(y_test, pred.predictions.argmax(-1)), \n",
    "    # упс, тут баг, я в ROC AUC подаю предсказанные метки классов, а не вероятности\n",
    "    },\n",
    ")\n",
    "\n",
    "\n",
    "trainer.train()"
   ]
  },
  {
   "cell_type": "markdown",
   "metadata": {},
   "source": [
    "#### Достиг 0.975 оригинальным бертом, хотя у меня ROC AUC был сломан.. Я в ROC AUC подаю предсказанные метки классов, а не вероятности. Пофиксил этот баг и сейчас по чекпоинтам провалидирую модель"
   ]
  },
  {
   "cell_type": "code",
   "execution_count": 96,
   "metadata": {},
   "outputs": [
    {
     "name": "stderr",
     "output_type": "stream",
     "text": [
      "100%|██████████| 204/204 [00:25<00:00,  7.88it/s]\n"
     ]
    },
    {
     "name": "stdout",
     "output_type": "stream",
     "text": [
      "500 ROC AUC NN: 0.9821\n",
      "500 ROC AUC ensemble: 0.9899\n"
     ]
    },
    {
     "name": "stderr",
     "output_type": "stream",
     "text": [
      "100%|██████████| 204/204 [00:26<00:00,  7.83it/s]\n"
     ]
    },
    {
     "name": "stdout",
     "output_type": "stream",
     "text": [
      "1000 ROC AUC NN: 0.9898\n",
      "1000 ROC AUC ensemble: 0.9917\n"
     ]
    },
    {
     "name": "stderr",
     "output_type": "stream",
     "text": [
      "100%|██████████| 204/204 [00:26<00:00,  7.78it/s]\n"
     ]
    },
    {
     "name": "stdout",
     "output_type": "stream",
     "text": [
      "1500 ROC AUC NN: 0.9902\n",
      "1500 ROC AUC ensemble: 0.9927\n"
     ]
    },
    {
     "name": "stderr",
     "output_type": "stream",
     "text": [
      "100%|██████████| 204/204 [00:26<00:00,  7.75it/s]\n"
     ]
    },
    {
     "name": "stdout",
     "output_type": "stream",
     "text": [
      "2000 ROC AUC NN: 0.9918\n",
      "2000 ROC AUC ensemble: 0.9919\n"
     ]
    },
    {
     "name": "stderr",
     "output_type": "stream",
     "text": [
      "100%|██████████| 204/204 [00:26<00:00,  7.73it/s]\n"
     ]
    },
    {
     "name": "stdout",
     "output_type": "stream",
     "text": [
      "2500 ROC AUC NN: 0.9928\n",
      "2500 ROC AUC ensemble: 0.9921\n"
     ]
    },
    {
     "name": "stderr",
     "output_type": "stream",
     "text": [
      "100%|██████████| 204/204 [00:26<00:00,  7.73it/s]\n"
     ]
    },
    {
     "name": "stdout",
     "output_type": "stream",
     "text": [
      "3000 ROC AUC NN: 0.9937\n",
      "3000 ROC AUC ensemble: 0.9939\n"
     ]
    },
    {
     "name": "stderr",
     "output_type": "stream",
     "text": [
      "100%|██████████| 204/204 [00:26<00:00,  7.72it/s]\n"
     ]
    },
    {
     "name": "stdout",
     "output_type": "stream",
     "text": [
      "3500 ROC AUC NN: 0.9930\n",
      "3500 ROC AUC ensemble: 0.9931\n"
     ]
    },
    {
     "name": "stderr",
     "output_type": "stream",
     "text": [
      "100%|██████████| 204/204 [00:26<00:00,  7.62it/s]\n"
     ]
    },
    {
     "name": "stdout",
     "output_type": "stream",
     "text": [
      "4000 ROC AUC NN: 0.9895\n",
      "4000 ROC AUC ensemble: 0.9925\n"
     ]
    },
    {
     "name": "stderr",
     "output_type": "stream",
     "text": [
      "100%|██████████| 204/204 [00:26<00:00,  7.71it/s]\n"
     ]
    },
    {
     "name": "stdout",
     "output_type": "stream",
     "text": [
      "4500 ROC AUC NN: 0.9928\n",
      "4500 ROC AUC ensemble: 0.9930\n"
     ]
    },
    {
     "name": "stderr",
     "output_type": "stream",
     "text": [
      "100%|██████████| 204/204 [00:26<00:00,  7.70it/s]\n"
     ]
    },
    {
     "name": "stdout",
     "output_type": "stream",
     "text": [
      "5000 ROC AUC NN: 0.9921\n",
      "5000 ROC AUC ensemble: 0.9932\n"
     ]
    },
    {
     "name": "stderr",
     "output_type": "stream",
     "text": [
      "100%|██████████| 204/204 [00:26<00:00,  7.69it/s]\n"
     ]
    },
    {
     "name": "stdout",
     "output_type": "stream",
     "text": [
      "5500 ROC AUC NN: 0.9906\n",
      "5500 ROC AUC ensemble: 0.9927\n"
     ]
    },
    {
     "name": "stderr",
     "output_type": "stream",
     "text": [
      "100%|██████████| 204/204 [00:26<00:00,  7.68it/s]\n"
     ]
    },
    {
     "name": "stdout",
     "output_type": "stream",
     "text": [
      "6000 ROC AUC NN: 0.9929\n",
      "6000 ROC AUC ensemble: 0.9929\n"
     ]
    },
    {
     "name": "stderr",
     "output_type": "stream",
     "text": [
      "100%|██████████| 204/204 [00:26<00:00,  7.68it/s]\n"
     ]
    },
    {
     "name": "stdout",
     "output_type": "stream",
     "text": [
      "6500 ROC AUC NN: 0.9909\n",
      "6500 ROC AUC ensemble: 0.9931\n"
     ]
    },
    {
     "name": "stderr",
     "output_type": "stream",
     "text": [
      "100%|██████████| 204/204 [00:26<00:00,  7.67it/s]\n"
     ]
    },
    {
     "name": "stdout",
     "output_type": "stream",
     "text": [
      "7000 ROC AUC NN: 0.9899\n",
      "7000 ROC AUC ensemble: 0.9930\n"
     ]
    },
    {
     "name": "stderr",
     "output_type": "stream",
     "text": [
      "100%|██████████| 204/204 [00:26<00:00,  7.66it/s]\n"
     ]
    },
    {
     "name": "stdout",
     "output_type": "stream",
     "text": [
      "7500 ROC AUC NN: 0.9930\n",
      "7500 ROC AUC ensemble: 0.9931\n"
     ]
    },
    {
     "name": "stderr",
     "output_type": "stream",
     "text": [
      "100%|██████████| 204/204 [00:26<00:00,  7.68it/s]\n"
     ]
    },
    {
     "name": "stdout",
     "output_type": "stream",
     "text": [
      "8000 ROC AUC NN: 0.9929\n",
      "8000 ROC AUC ensemble: 0.9931\n"
     ]
    }
   ],
   "source": [
    "from torch.utils.data import DataLoader\n",
    "from tqdm import tqdm\n",
    "\n",
    "device = \"cuda\" if torch.cuda.is_available() else \"cpu\"\n",
    "\n",
    "metrics_NN = []\n",
    "metrics_ensemble = []\n",
    "preds_NN = []\n",
    "\n",
    "def predict_with_model(model, test_data_loader):\n",
    "    predictions = []\n",
    "    for batch in tqdm(test_data_loader):\n",
    "        input_ids = batch[\"input_ids\"].to(device)\n",
    "        attention_mask = torch.Tensor(batch[\"attention_mask\"]).to(device)\n",
    "\n",
    "        with torch.no_grad():\n",
    "            outputs = model(input_ids, attention_mask=attention_mask)\n",
    "            logits = outputs.logits\n",
    "            batch_predictions = torch.nn.functional.softmax(logits, dim=-1)\n",
    "            predictions.extend(batch_predictions.tolist())\n",
    "    return predictions\n",
    "\n",
    "for batch_number in np.arange(500, 8001, 500):\n",
    "    checkpoint_path = f'./results/checkpoint-{batch_number}/'\n",
    "    model = BertForSequenceClassification.from_pretrained(checkpoint_path)\n",
    "    model.to(device)\n",
    "    model.eval()\n",
    "\n",
    "    test_data_loader = DataLoader(test_dataset.with_format(\"torch\"), batch_size=16)\n",
    "    \n",
    "    predictions = np.array(predict_with_model(model, test_data_loader))[:, 1]\n",
    "    preds_NN.append(predictions)\n",
    "    predictions_RF = np.array(models['Random Forest'].predict_proba(X_test_tfidf))[:, 1]\n",
    "    predictions_catboost = np.array(models['Catboost GBM'].predict_proba(X_test_tfidf))[:, 1]\n",
    "    predictions_ensemble = predictions * 0.6 + \\\n",
    "                           predictions_RF * 0.3 + \\\n",
    "                           predictions_catboost * 0.1\n",
    "\n",
    "\n",
    "    roc_auc_NN = roc_auc_score(y_test, predictions)\n",
    "    roc_auc_ensemble = roc_auc_score(y_test, predictions_ensemble)\n",
    "    print(f\"{batch_number} ROC AUC NN: {roc_auc_NN:.4f}\")\n",
    "    print(f\"{batch_number} ROC AUC ensemble: {roc_auc_ensemble:.4f}\")\n",
    "\n",
    "    metrics_NN.append(roc_auc_NN)\n",
    "    metrics_ensemble.append(roc_auc_ensemble)"
   ]
  },
  {
   "cell_type": "code",
   "execution_count": 130,
   "metadata": {},
   "outputs": [
    {
     "name": "stdout",
     "output_type": "stream",
     "text": [
      "500 ROC AUC NN: 0.9821\n",
      "500 ROC AUC ensemble: 0.9885\n",
      "1000 ROC AUC NN: 0.9898\n",
      "1000 ROC AUC ensemble: 0.9924\n",
      "1500 ROC AUC NN: 0.9902\n",
      "1500 ROC AUC ensemble: 0.9942\n",
      "2000 ROC AUC NN: 0.9918\n",
      "2000 ROC AUC ensemble: 0.9936\n",
      "2500 ROC AUC NN: 0.9928\n",
      "2500 ROC AUC ensemble: 0.9936\n",
      "3000 ROC AUC NN: 0.9937\n",
      "3000 ROC AUC ensemble: 0.9951\n",
      "3500 ROC AUC NN: 0.9930\n",
      "3500 ROC AUC ensemble: 0.9943\n",
      "4000 ROC AUC NN: 0.9895\n",
      "4000 ROC AUC ensemble: 0.9935\n",
      "4500 ROC AUC NN: 0.9928\n",
      "4500 ROC AUC ensemble: 0.9934\n",
      "5000 ROC AUC NN: 0.9921\n",
      "5000 ROC AUC ensemble: 0.9938\n",
      "5500 ROC AUC NN: 0.9906\n",
      "5500 ROC AUC ensemble: 0.9932\n",
      "6000 ROC AUC NN: 0.9929\n",
      "6000 ROC AUC ensemble: 0.9937\n",
      "6500 ROC AUC NN: 0.9909\n",
      "6500 ROC AUC ensemble: 0.9936\n",
      "7000 ROC AUC NN: 0.9899\n",
      "7000 ROC AUC ensemble: 0.9933\n",
      "7500 ROC AUC NN: 0.9930\n",
      "7500 ROC AUC ensemble: 0.9937\n",
      "8000 ROC AUC NN: 0.9929\n",
      "8000 ROC AUC ensemble: 0.9936\n"
     ]
    }
   ],
   "source": [
    "from torch.utils.data import DataLoader\n",
    "from tqdm import tqdm\n",
    "\n",
    "device = \"cuda\" if torch.cuda.is_available() else \"cpu\"\n",
    "\n",
    "metrics_NN = []\n",
    "metrics_ensemble = []\n",
    "\n",
    "def predict_with_model(model, test_data_loader):\n",
    "    predictions = []\n",
    "    for batch in test_data_loader:\n",
    "        input_ids = batch[\"input_ids\"].to(device)\n",
    "        attention_mask = torch.Tensor(batch[\"attention_mask\"]).to(device)\n",
    "\n",
    "        with torch.no_grad():\n",
    "            outputs = model(input_ids, attention_mask=attention_mask)\n",
    "            logits = outputs.logits\n",
    "            batch_predictions = torch.nn.functional.softmax(logits, dim=-1)\n",
    "            predictions.extend(batch_predictions.tolist())\n",
    "    return predictions\n",
    "\n",
    "\n",
    "for i, batch_number in enumerate(np.arange(500, 8001, 500)):\n",
    "    checkpoint_path = f'./results/checkpoint-{batch_number}/'\n",
    "    model = BertForSequenceClassification.from_pretrained(checkpoint_path)\n",
    "    model.to(device)\n",
    "    model.eval()\n",
    "\n",
    "    test_data_loader = DataLoader(test_dataset.with_format(\"torch\"), batch_size=16)\n",
    "    \n",
    "    predictions = np.array(predict_with_model(model, test_data_loader))[:, 1]\n",
    "    predictions_RF = np.array(models['Random Forest'].predict_proba(X_test_tfidf))[:, 1]\n",
    "    predictions_catboost = np.array(models['Catboost GBM'].predict_proba(X_test_tfidf))[:, 1]\n",
    "    predictions_ensemble = predictions * 0.98 + \\\n",
    "                           predictions_RF * 0.01 + \\\n",
    "                           predictions_catboost * 0.01\n",
    "\n",
    "\n",
    "    roc_auc_NN = roc_auc_score(y_test, predictions)\n",
    "    roc_auc_ensemble = roc_auc_score(y_test, predictions_ensemble)\n",
    "    print(f\"{batch_number} ROC AUC NN: {roc_auc_NN:.4f}\")\n",
    "    print(f\"{batch_number} ROC AUC ensemble: {roc_auc_ensemble:.4f}\")\n",
    "\n",
    "    metrics_NN.append(roc_auc_NN)\n",
    "    metrics_ensemble.append(roc_auc_ensemble)"
   ]
  },
  {
   "cell_type": "code",
   "execution_count": 124,
   "metadata": {},
   "outputs": [
    {
     "data": {
      "image/png": "[encoded data removed]",
      "text/plain": [
       "<Figure size 800x800 with 1 Axes>"
      ]
     },
     "metadata": {
      "needs_background": "light"
     },
     "output_type": "display_data"
    }
   ],
   "source": [
    "def plot(roc_auc_NN, roc_auc_ensemble):\n",
    "    plt.figure(figsize=(8, 8), dpi=100)\n",
    "    plt.plot(np.arange(500, 8001, 500), roc_auc_NN, label='Eval ROC AUC NN')\n",
    "    plt.plot(np.arange(500, 8001, 500), roc_auc_ensemble, label='Eval ROC AUC Ensemble')\n",
    "    plt.xlabel('Training Steps')\n",
    "    plt.ylabel('ROC AUC')\n",
    "    plt.title('Eval ROC AUC')\n",
    "    plt.legend()\n",
    "    plt.show()\n",
    "\n",
    "plot(metrics_NN, metrics_ensemble)"
   ]
  },
  {
   "cell_type": "markdown",
   "metadata": {},
   "source": [
    "#### Прекрасно видно, что оригинальный BERT смог получить 0.99+ ROC AUC на детекции спама. А ансамблирование помогает улучшить результат, потому что нейросеть очень любит ударяться в крайности и предсказывать почти метки классов, а не сами вероятности. Поэтому даже добавления хоть немного предсказания классических моделей помогает получать вероятности, которые улучшают результат.\n",
    "### Что можем еще сделать? \n",
    " * Попробовать использовать более совершенные берты, а не 7семилетней давности: RoBERTa, DistilBERT, DeBERTa; либо просто маленькие версии SOTA моделек: https://paperswithcode.com/task/text-classification.\n",
    " * Если хотим уменьшить количество потребляемых ресурсов модели, то можно взять более мелкий BERT (и более современный) и попробовать обучить его\n",
    " * Если хотим повысить надежность, то можно взять ансамбль моделей. Ансамбль моделей можно оптимизировать с помощью байесовоской оптимизацией, фреймворками типа hyperopt или optuna. Но нужно обязательно выделить отдельный кусок данных под валидацию."
   ]
  },
  {
   "cell_type": "markdown",
   "metadata": {},
   "source": [
    "#### Возьму свой лучший ансамьль и буду получать предсказания из него "
   ]
  },
  {
   "cell_type": "code",
   "execution_count": 125,
   "metadata": {},
   "outputs": [],
   "source": [
    "data_realtest = pd.read_csv('data/test_spam.csv')\n",
    "realtest_dataset = generate_dataset(list(np.array(data_realtest['text'])), None)\n",
    "checkpoint_path = './results/checkpoint-3000/'\n",
    "model = BertForSequenceClassification.from_pretrained(checkpoint_path)\n",
    "model.to(device)\n",
    "model.eval()\n",
    "\n",
    "realtest_data_loader = DataLoader(realtest_dataset.with_format(\"torch\"), batch_size=16)\n",
    "predictions = np.array(predict_with_model(model, realtest_data_loader))[:, 1]\n",
    "X_realtest_tfidf = vectorizer.transform(data_realtest['text'])\n",
    "predictions_RF = np.array(models['Random Forest'].predict_proba(X_realtest_tfidf))[:, 1]\n",
    "predictions_catboost = np.array(models['Catboost GBM'].predict_proba(X_realtest_tfidf))[:, 1]\n",
    "predictions_ensemble = predictions * 0.98 + \\\n",
    "                       predictions_RF * 0.01 + \\\n",
    "                       predictions_catboost * 0.01\n",
    "\n",
    "# Постарался сделать такую же структуру, как в трейне, но отдельно добавлю вероятности\n",
    "# Необходимо иметь колонки score и text, надеюсь, что score подразумевает как раз вероятности\n",
    "data_realtest['score'] = predictions_ensemble\n",
    "data_realtest['text_type'] = data_realtest['score'].apply(lambda x: 'ham' if x < 0.5 else 'spam')\n",
    "data_realtest.to_csv('submission.csv')"
   ]
  },
  {
   "cell_type": "code",
   "execution_count": 126,
   "metadata": {},
   "outputs": [
    {
     "data": {
      "text/html": [
       "<div>\n",
       "<style scoped>\n",
       "    .dataframe tbody tr th:only-of-type {\n",
       "        vertical-align: middle;\n",
       "    }\n",
       "\n",
       "    .dataframe tbody tr th {\n",
       "        vertical-align: top;\n",
       "    }\n",
       "\n",
       "    .dataframe thead th {\n",
       "        text-align: right;\n",
       "    }\n",
       "</style>\n",
       "<table border=\"1\" class=\"dataframe\">\n",
       "  <thead>\n",
       "    <tr style=\"text-align: right;\">\n",
       "      <th></th>\n",
       "      <th>text</th>\n",
       "      <th>score</th>\n",
       "      <th>text_type</th>\n",
       "    </tr>\n",
       "  </thead>\n",
       "  <tbody>\n",
       "    <tr>\n",
       "      <th>0</th>\n",
       "      <td>j jim whitehead ejw cse ucsc edu writes j you ...</td>\n",
       "      <td>0.002435</td>\n",
       "      <td>ham</td>\n",
       "    </tr>\n",
       "    <tr>\n",
       "      <th>1</th>\n",
       "      <td>original message from bitbitch magnesium net p...</td>\n",
       "      <td>0.005231</td>\n",
       "      <td>ham</td>\n",
       "    </tr>\n",
       "    <tr>\n",
       "      <th>2</th>\n",
       "      <td>java for managers vince durasoft who just taug...</td>\n",
       "      <td>0.000974</td>\n",
       "      <td>ham</td>\n",
       "    </tr>\n",
       "    <tr>\n",
       "      <th>3</th>\n",
       "      <td>there is a youtuber name saiman says</td>\n",
       "      <td>0.001267</td>\n",
       "      <td>ham</td>\n",
       "    </tr>\n",
       "    <tr>\n",
       "      <th>4</th>\n",
       "      <td>underpriced issue with high return on equity t...</td>\n",
       "      <td>0.989087</td>\n",
       "      <td>spam</td>\n",
       "    </tr>\n",
       "    <tr>\n",
       "      <th>...</th>\n",
       "      <td>...</td>\n",
       "      <td>...</td>\n",
       "      <td>...</td>\n",
       "    </tr>\n",
       "    <tr>\n",
       "      <th>4065</th>\n",
       "      <td>husband to wifetum meri zindagi hoorwifeor kya...</td>\n",
       "      <td>0.010629</td>\n",
       "      <td>ham</td>\n",
       "    </tr>\n",
       "    <tr>\n",
       "      <th>4066</th>\n",
       "      <td>baylor enron case study cindy yes i shall co a...</td>\n",
       "      <td>0.000211</td>\n",
       "      <td>ham</td>\n",
       "    </tr>\n",
       "    <tr>\n",
       "      <th>4067</th>\n",
       "      <td>boring as compared to tp</td>\n",
       "      <td>0.002171</td>\n",
       "      <td>ham</td>\n",
       "    </tr>\n",
       "    <tr>\n",
       "      <th>4068</th>\n",
       "      <td>hellogorgeous hows u my fone was on charge lst...</td>\n",
       "      <td>0.001250</td>\n",
       "      <td>ham</td>\n",
       "    </tr>\n",
       "    <tr>\n",
       "      <th>4069</th>\n",
       "      <td>energy conference mark we are really swamped a...</td>\n",
       "      <td>0.000608</td>\n",
       "      <td>ham</td>\n",
       "    </tr>\n",
       "  </tbody>\n",
       "</table>\n",
       "<p>4070 rows × 3 columns</p>\n",
       "</div>"
      ],
      "text/plain": [
       "                                                   text     score text_type\n",
       "0     j jim whitehead ejw cse ucsc edu writes j you ...  0.002435       ham\n",
       "1     original message from bitbitch magnesium net p...  0.005231       ham\n",
       "2     java for managers vince durasoft who just taug...  0.000974       ham\n",
       "3                  there is a youtuber name saiman says  0.001267       ham\n",
       "4     underpriced issue with high return on equity t...  0.989087      spam\n",
       "...                                                 ...       ...       ...\n",
       "4065  husband to wifetum meri zindagi hoorwifeor kya...  0.010629       ham\n",
       "4066  baylor enron case study cindy yes i shall co a...  0.000211       ham\n",
       "4067                           boring as compared to tp  0.002171       ham\n",
       "4068  hellogorgeous hows u my fone was on charge lst...  0.001250       ham\n",
       "4069  energy conference mark we are really swamped a...  0.000608       ham\n",
       "\n",
       "[4070 rows x 3 columns]"
      ]
     },
     "execution_count": 126,
     "metadata": {},
     "output_type": "execute_result"
    }
   ],
   "source": [
    "data_realtest"
   ]
  }
 ],
 "metadata": {
  "kernelspec": {
   "display_name": "ML_env",
   "language": "python",
   "name": "python3"
  },
  "language_info": {
   "codemirror_mode": {
    "name": "ipython",
    "version": 3
   },
   "file_extension": ".py",
   "mimetype": "text/x-python",
   "name": "python",
   "nbconvert_exporter": "python",
   "pygments_lexer": "ipython3",
   "version": "3.9.19"
  }
 },
 "nbformat": 4,
 "nbformat_minor": 2
}
